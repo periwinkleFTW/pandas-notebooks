{
 "cells": [
  {
   "cell_type": "code",
   "execution_count": 50,
   "id": "db8b47c6",
   "metadata": {},
   "outputs": [],
   "source": [
    "import pandas as pd\n",
    "import datetime as dt\n",
    "from pandas_datareader import data"
   ]
  },
  {
   "cell_type": "markdown",
   "id": "748786cd",
   "metadata": {},
   "source": [
    "### The pandas `Timestamp` object"
   ]
  },
  {
   "cell_type": "code",
   "execution_count": 7,
   "id": "e60e1528",
   "metadata": {},
   "outputs": [
    {
     "data": {
      "text/plain": [
       "Timestamp('2021-03-08 18:32:14')"
      ]
     },
     "execution_count": 7,
     "metadata": {},
     "output_type": "execute_result"
    }
   ],
   "source": [
    "# It is pandas datetime object\n",
    "pd.Timestamp(\"2015-03-31\")\n",
    "pd.Timestamp(\"2015/03/31\")\n",
    "pd.Timestamp('2021-03-08 08:32:14')\n",
    "pd.Timestamp('2021-03-08 6:32:14 PM')"
   ]
  },
  {
   "cell_type": "code",
   "execution_count": 8,
   "id": "87164b69",
   "metadata": {},
   "outputs": [
    {
     "data": {
      "text/plain": [
       "Timestamp('2000-02-03 21:32:22')"
      ]
     },
     "execution_count": 8,
     "metadata": {},
     "output_type": "execute_result"
    }
   ],
   "source": [
    "pd.Timestamp(dt.datetime(2000, 2, 3, 21, 32, 22))"
   ]
  },
  {
   "cell_type": "markdown",
   "id": "5daa6ab9",
   "metadata": {},
   "source": [
    "### The pandas `DateTImeIndex` object"
   ]
  },
  {
   "cell_type": "code",
   "execution_count": 11,
   "id": "9fd33810",
   "metadata": {},
   "outputs": [
    {
     "data": {
      "text/plain": [
       "DatetimeIndex(['2016-01-02', '2016-03-12', '2008-04-03'], dtype='datetime64[ns]', freq=None)"
      ]
     },
     "execution_count": 11,
     "metadata": {},
     "output_type": "execute_result"
    }
   ],
   "source": [
    "dates = ['2016-01-02', '2016-03-12', '2008-4-3']\n",
    "pd.DatetimeIndex(dates)"
   ]
  },
  {
   "cell_type": "code",
   "execution_count": 14,
   "id": "3a51f484",
   "metadata": {},
   "outputs": [],
   "source": [
    "dates = [dt.date(2015, 1, 2), dt.date(2022, 6, 1), dt.date(2010, 7, 11)]\n",
    "dtIndex = pd.DatetimeIndex(dates)"
   ]
  },
  {
   "cell_type": "code",
   "execution_count": 15,
   "id": "2bfab2ab",
   "metadata": {},
   "outputs": [
    {
     "data": {
      "text/plain": [
       "2015-01-02    100\n",
       "2022-06-01    200\n",
       "2010-07-11    300\n",
       "dtype: int64"
      ]
     },
     "execution_count": 15,
     "metadata": {},
     "output_type": "execute_result"
    }
   ],
   "source": [
    "values = [100, 200, 300]\n",
    "pd.Series(data=values, index=dtIndex)"
   ]
  },
  {
   "cell_type": "markdown",
   "id": "085204b9",
   "metadata": {},
   "source": [
    "### The `pd.to_datetime()` method"
   ]
  },
  {
   "cell_type": "code",
   "execution_count": 16,
   "id": "905afb84",
   "metadata": {},
   "outputs": [
    {
     "data": {
      "text/plain": [
       "Timestamp('2001-04-19 00:00:00')"
      ]
     },
     "execution_count": 16,
     "metadata": {},
     "output_type": "execute_result"
    }
   ],
   "source": [
    "pd.to_datetime('2001-04-19')"
   ]
  },
  {
   "cell_type": "code",
   "execution_count": 19,
   "id": "079e3257",
   "metadata": {},
   "outputs": [
    {
     "data": {
      "text/plain": [
       "0    July 3rd, 1995\n",
       "1        10/03/1993\n",
       "2             Hello\n",
       "3        2014-02-31\n",
       "dtype: object"
      ]
     },
     "execution_count": 19,
     "metadata": {},
     "output_type": "execute_result"
    }
   ],
   "source": [
    "dates = pd.Series(['July 3rd, 1995', '10/03/1993', 'Hello', '2014-02-31'])\n",
    "dates"
   ]
  },
  {
   "cell_type": "code",
   "execution_count": 21,
   "id": "37458e64",
   "metadata": {},
   "outputs": [
    {
     "data": {
      "text/plain": [
       "0   1995-07-03\n",
       "1   1993-10-03\n",
       "2          NaT\n",
       "3          NaT\n",
       "dtype: datetime64[ns]"
      ]
     },
     "execution_count": 21,
     "metadata": {},
     "output_type": "execute_result"
    }
   ],
   "source": [
    "pd.to_datetime(dates, errors='coerce')"
   ]
  },
  {
   "cell_type": "code",
   "execution_count": 23,
   "id": "faf96592",
   "metadata": {},
   "outputs": [
    {
     "data": {
      "text/plain": [
       "DatetimeIndex(['1970-05-23 23:30:33', '1973-12-10 03:32:03',\n",
       "               '2107-01-12 00:10:34'],\n",
       "              dtype='datetime64[ns]', freq=None)"
      ]
     },
     "execution_count": 23,
     "metadata": {},
     "output_type": "execute_result"
    }
   ],
   "source": [
    "pd.to_datetime([12353433, 124342323, 4324234234], unit='s')"
   ]
  },
  {
   "cell_type": "markdown",
   "id": "0e23c524",
   "metadata": {},
   "source": [
    "### Create a range of dates with the `pd.date_range()` method"
   ]
  },
  {
   "cell_type": "code",
   "execution_count": 28,
   "id": "52c0b5d9",
   "metadata": {},
   "outputs": [
    {
     "data": {
      "text/plain": [
       "DatetimeIndex(['2016-01-01', '2016-01-03', '2016-01-05', '2016-01-07',\n",
       "               '2016-01-09'],\n",
       "              dtype='datetime64[ns]', freq='2D')"
      ]
     },
     "execution_count": 28,
     "metadata": {},
     "output_type": "execute_result"
    }
   ],
   "source": [
    "times = pd.date_range(start='2016-01-01', end='2016-01-10', freq='2D')\n",
    "times"
   ]
  },
  {
   "cell_type": "code",
   "execution_count": 27,
   "id": "c210ed9c",
   "metadata": {},
   "outputs": [
    {
     "data": {
      "text/plain": [
       "pandas.core.indexes.datetimes.DatetimeIndex"
      ]
     },
     "execution_count": 27,
     "metadata": {},
     "output_type": "execute_result"
    }
   ],
   "source": [
    "type(times)"
   ]
  },
  {
   "cell_type": "code",
   "execution_count": 33,
   "id": "16ebf559",
   "metadata": {},
   "outputs": [
    {
     "data": {
      "text/plain": [
       "DatetimeIndex(['2016-01-03', '2016-01-10', '2016-01-17'], dtype='datetime64[ns]', freq='W-SUN')"
      ]
     },
     "execution_count": 33,
     "metadata": {},
     "output_type": "execute_result"
    }
   ],
   "source": [
    "# You can do weeks with a starting day\n",
    "times = pd.date_range(start='2016-01-01', end='2016-01-20', freq='W-SUN')\n",
    "times"
   ]
  },
  {
   "cell_type": "code",
   "execution_count": 36,
   "id": "09349e14",
   "metadata": {},
   "outputs": [
    {
     "data": {
      "text/plain": [
       "DatetimeIndex(['2012-09-10', '2012-09-11', '2012-09-12', '2012-09-13',\n",
       "               '2012-09-14', '2012-09-17', '2012-09-18', '2012-09-19',\n",
       "               '2012-09-20', '2012-09-21', '2012-09-24', '2012-09-25',\n",
       "               '2012-09-26', '2012-09-27', '2012-09-28', '2012-10-01',\n",
       "               '2012-10-02', '2012-10-03', '2012-10-04', '2012-10-05',\n",
       "               '2012-10-08', '2012-10-09', '2012-10-10', '2012-10-11',\n",
       "               '2012-10-12'],\n",
       "              dtype='datetime64[ns]', freq='B')"
      ]
     },
     "execution_count": 36,
     "metadata": {},
     "output_type": "execute_result"
    }
   ],
   "source": [
    "# periods defines the number of timestamps you want to get\n",
    "# you get 25 timestamp from starting date at a specified freq interval\n",
    "# freq='B' only generates business days\n",
    "pd.date_range(start='2012-09-09', periods=25, freq='B')"
   ]
  },
  {
   "cell_type": "code",
   "execution_count": 37,
   "id": "04640331",
   "metadata": {},
   "outputs": [
    {
     "data": {
      "text/plain": [
       "DatetimeIndex(['1999-11-29', '1999-11-30', '1999-12-01', '1999-12-02',\n",
       "               '1999-12-03', '1999-12-06', '1999-12-07', '1999-12-08',\n",
       "               '1999-12-09', '1999-12-10', '1999-12-13', '1999-12-14',\n",
       "               '1999-12-15', '1999-12-16', '1999-12-17', '1999-12-20',\n",
       "               '1999-12-21', '1999-12-22', '1999-12-23', '1999-12-24',\n",
       "               '1999-12-27', '1999-12-28', '1999-12-29', '1999-12-30',\n",
       "               '1999-12-31'],\n",
       "              dtype='datetime64[ns]', freq='B')"
      ]
     },
     "execution_count": 37,
     "metadata": {},
     "output_type": "execute_result"
    }
   ],
   "source": [
    "# Can do similar things with end param\n",
    "# you will go backwards until you generate specified num of periods\n",
    "pd.date_range(end='1999-12-31', periods=25, freq='B')"
   ]
  },
  {
   "cell_type": "markdown",
   "id": "d4b087c6",
   "metadata": {},
   "source": [
    "### The `.dt` accessor"
   ]
  },
  {
   "cell_type": "code",
   "execution_count": 38,
   "id": "f6e4f213",
   "metadata": {},
   "outputs": [],
   "source": [
    "bunch_of_dates = pd.date_range(start='2000-01-01', end='2010-12-31', freq='24D')"
   ]
  },
  {
   "cell_type": "code",
   "execution_count": 40,
   "id": "1271494f",
   "metadata": {},
   "outputs": [
    {
     "data": {
      "text/plain": [
       "0     2000-01-01\n",
       "1     2000-01-25\n",
       "2     2000-02-18\n",
       "3     2000-03-13\n",
       "4     2000-04-06\n",
       "         ...    \n",
       "163   2010-09-17\n",
       "164   2010-10-11\n",
       "165   2010-11-04\n",
       "166   2010-11-28\n",
       "167   2010-12-22\n",
       "Length: 168, dtype: datetime64[ns]"
      ]
     },
     "execution_count": 40,
     "metadata": {},
     "output_type": "execute_result"
    }
   ],
   "source": [
    "s = pd.Series(bunch_of_dates)\n",
    "s"
   ]
  },
  {
   "cell_type": "code",
   "execution_count": 48,
   "id": "0d86a2c4",
   "metadata": {},
   "outputs": [
    {
     "data": {
      "text/plain": [
       "0     2000-01-01\n",
       "19    2001-04-01\n",
       "38    2002-07-01\n",
       "137   2009-01-01\n",
       "dtype: datetime64[ns]"
      ]
     },
     "execution_count": 48,
     "metadata": {},
     "output_type": "execute_result"
    }
   ],
   "source": [
    "mask = s.dt.is_quarter_start\n",
    "s[mask]"
   ]
  },
  {
   "cell_type": "markdown",
   "id": "af4ce6ce",
   "metadata": {},
   "source": [
    "### The `pandas_datareader` package"
   ]
  },
  {
   "cell_type": "code",
   "execution_count": 54,
   "id": "27ecdb9c",
   "metadata": {
    "scrolled": true
   },
   "outputs": [
    {
     "data": {
      "text/html": [
       "<div>\n",
       "<style scoped>\n",
       "    .dataframe tbody tr th:only-of-type {\n",
       "        vertical-align: middle;\n",
       "    }\n",
       "\n",
       "    .dataframe tbody tr th {\n",
       "        vertical-align: top;\n",
       "    }\n",
       "\n",
       "    .dataframe thead th {\n",
       "        text-align: right;\n",
       "    }\n",
       "</style>\n",
       "<table border=\"1\" class=\"dataframe\">\n",
       "  <thead>\n",
       "    <tr style=\"text-align: right;\">\n",
       "      <th></th>\n",
       "      <th>High</th>\n",
       "      <th>Low</th>\n",
       "      <th>Open</th>\n",
       "      <th>Close</th>\n",
       "      <th>Volume</th>\n",
       "      <th>Adj Close</th>\n",
       "    </tr>\n",
       "    <tr>\n",
       "      <th>Date</th>\n",
       "      <th></th>\n",
       "      <th></th>\n",
       "      <th></th>\n",
       "      <th></th>\n",
       "      <th></th>\n",
       "      <th></th>\n",
       "    </tr>\n",
       "  </thead>\n",
       "  <tbody>\n",
       "    <tr>\n",
       "      <th>2010-01-04</th>\n",
       "      <td>31.1</td>\n",
       "      <td>30.590000</td>\n",
       "      <td>30.620001</td>\n",
       "      <td>30.950001</td>\n",
       "      <td>38409100.0</td>\n",
       "      <td>23.855659</td>\n",
       "    </tr>\n",
       "    <tr>\n",
       "      <th>2010-01-05</th>\n",
       "      <td>31.1</td>\n",
       "      <td>30.639999</td>\n",
       "      <td>30.850000</td>\n",
       "      <td>30.959999</td>\n",
       "      <td>49749600.0</td>\n",
       "      <td>23.863363</td>\n",
       "    </tr>\n",
       "  </tbody>\n",
       "</table>\n",
       "</div>"
      ],
      "text/plain": [
       "            High        Low       Open      Close      Volume  Adj Close\n",
       "Date                                                                    \n",
       "2010-01-04  31.1  30.590000  30.620001  30.950001  38409100.0  23.855659\n",
       "2010-01-05  31.1  30.639999  30.850000  30.959999  49749600.0  23.863363"
      ]
     },
     "execution_count": 54,
     "metadata": {},
     "output_type": "execute_result"
    }
   ],
   "source": [
    "stocks = data.DataReader(name='MSFT', \n",
    "                data_source='yahoo', \n",
    "                start='2010-01-01', \n",
    "                end='2020-12-31')\n",
    "stocks.head(2)"
   ]
  },
  {
   "cell_type": "code",
   "execution_count": 56,
   "id": "6d6ed68c",
   "metadata": {},
   "outputs": [
    {
     "data": {
      "text/plain": [
       "DatetimeIndex(['2010-01-04', '2010-01-05', '2010-01-06', '2010-01-07',\n",
       "               '2010-01-08', '2010-01-11', '2010-01-12', '2010-01-13',\n",
       "               '2010-01-14', '2010-01-15',\n",
       "               ...\n",
       "               '2020-12-17', '2020-12-18', '2020-12-21', '2020-12-22',\n",
       "               '2020-12-23', '2020-12-24', '2020-12-28', '2020-12-29',\n",
       "               '2020-12-30', '2020-12-31'],\n",
       "              dtype='datetime64[ns]', name='Date', length=2769, freq=None)"
      ]
     },
     "execution_count": 56,
     "metadata": {},
     "output_type": "execute_result"
    }
   ],
   "source": [
    "stocks.index"
   ]
  },
  {
   "cell_type": "markdown",
   "id": "b4bab962",
   "metadata": {},
   "source": [
    "### Selecting rows from a df with a `DataTimeIndex`"
   ]
  },
  {
   "cell_type": "code",
   "execution_count": 57,
   "id": "77f5848e",
   "metadata": {},
   "outputs": [
    {
     "data": {
      "text/html": [
       "<div>\n",
       "<style scoped>\n",
       "    .dataframe tbody tr th:only-of-type {\n",
       "        vertical-align: middle;\n",
       "    }\n",
       "\n",
       "    .dataframe tbody tr th {\n",
       "        vertical-align: top;\n",
       "    }\n",
       "\n",
       "    .dataframe thead th {\n",
       "        text-align: right;\n",
       "    }\n",
       "</style>\n",
       "<table border=\"1\" class=\"dataframe\">\n",
       "  <thead>\n",
       "    <tr style=\"text-align: right;\">\n",
       "      <th></th>\n",
       "      <th>High</th>\n",
       "      <th>Low</th>\n",
       "      <th>Open</th>\n",
       "      <th>Close</th>\n",
       "      <th>Volume</th>\n",
       "      <th>Adj Close</th>\n",
       "    </tr>\n",
       "    <tr>\n",
       "      <th>Date</th>\n",
       "      <th></th>\n",
       "      <th></th>\n",
       "      <th></th>\n",
       "      <th></th>\n",
       "      <th></th>\n",
       "      <th></th>\n",
       "    </tr>\n",
       "  </thead>\n",
       "  <tbody>\n",
       "    <tr>\n",
       "      <th>2010-01-04</th>\n",
       "      <td>31.1</td>\n",
       "      <td>30.590000</td>\n",
       "      <td>30.620001</td>\n",
       "      <td>30.950001</td>\n",
       "      <td>38409100.0</td>\n",
       "      <td>23.855652</td>\n",
       "    </tr>\n",
       "    <tr>\n",
       "      <th>2010-01-05</th>\n",
       "      <td>31.1</td>\n",
       "      <td>30.639999</td>\n",
       "      <td>30.850000</td>\n",
       "      <td>30.959999</td>\n",
       "      <td>49749600.0</td>\n",
       "      <td>23.863363</td>\n",
       "    </tr>\n",
       "  </tbody>\n",
       "</table>\n",
       "</div>"
      ],
      "text/plain": [
       "            High        Low       Open      Close      Volume  Adj Close\n",
       "Date                                                                    \n",
       "2010-01-04  31.1  30.590000  30.620001  30.950001  38409100.0  23.855652\n",
       "2010-01-05  31.1  30.639999  30.850000  30.959999  49749600.0  23.863363"
      ]
     },
     "execution_count": 57,
     "metadata": {},
     "output_type": "execute_result"
    }
   ],
   "source": [
    "stocks = data.DataReader(name='MSFT', \n",
    "                data_source='yahoo', \n",
    "                start='2010-01-01', \n",
    "                end='2020-12-31')\n",
    "stocks.head(2)"
   ]
  },
  {
   "cell_type": "code",
   "execution_count": 59,
   "id": "148aebfc",
   "metadata": {},
   "outputs": [
    {
     "data": {
      "text/plain": [
       "High         3.110000e+01\n",
       "Low          3.059000e+01\n",
       "Open         3.062000e+01\n",
       "Close        3.095000e+01\n",
       "Volume       3.840910e+07\n",
       "Adj Close    2.385565e+01\n",
       "Name: 2010-01-04 00:00:00, dtype: float64"
      ]
     },
     "execution_count": 59,
     "metadata": {},
     "output_type": "execute_result"
    }
   ],
   "source": [
    "# better to wrap date inside a TimeStamp\n",
    "stocks.loc[pd.Timestamp('2010-01-04')]"
   ]
  },
  {
   "cell_type": "code",
   "execution_count": 61,
   "id": "320c0e61",
   "metadata": {},
   "outputs": [
    {
     "data": {
      "text/plain": [
       "High         3.110000e+01\n",
       "Low          3.059000e+01\n",
       "Open         3.062000e+01\n",
       "Close        3.095000e+01\n",
       "Volume       3.840910e+07\n",
       "Adj Close    2.385565e+01\n",
       "Name: 2010-01-04 00:00:00, dtype: float64"
      ]
     },
     "execution_count": 61,
     "metadata": {},
     "output_type": "execute_result"
    }
   ],
   "source": [
    "stocks.iloc[0]"
   ]
  },
  {
   "cell_type": "code",
   "execution_count": 66,
   "id": "a3db88c4",
   "metadata": {},
   "outputs": [
    {
     "data": {
      "text/html": [
       "<div>\n",
       "<style scoped>\n",
       "    .dataframe tbody tr th:only-of-type {\n",
       "        vertical-align: middle;\n",
       "    }\n",
       "\n",
       "    .dataframe tbody tr th {\n",
       "        vertical-align: top;\n",
       "    }\n",
       "\n",
       "    .dataframe thead th {\n",
       "        text-align: right;\n",
       "    }\n",
       "</style>\n",
       "<table border=\"1\" class=\"dataframe\">\n",
       "  <thead>\n",
       "    <tr style=\"text-align: right;\">\n",
       "      <th></th>\n",
       "      <th>High</th>\n",
       "      <th>Low</th>\n",
       "      <th>Open</th>\n",
       "      <th>Close</th>\n",
       "      <th>Volume</th>\n",
       "      <th>Adj Close</th>\n",
       "    </tr>\n",
       "    <tr>\n",
       "      <th>Date</th>\n",
       "      <th></th>\n",
       "      <th></th>\n",
       "      <th></th>\n",
       "      <th></th>\n",
       "      <th></th>\n",
       "      <th></th>\n",
       "    </tr>\n",
       "  </thead>\n",
       "  <tbody>\n",
       "    <tr>\n",
       "      <th>2010-01-04</th>\n",
       "      <td>31.1</td>\n",
       "      <td>30.590000</td>\n",
       "      <td>30.620001</td>\n",
       "      <td>30.950001</td>\n",
       "      <td>38409100.0</td>\n",
       "      <td>23.855652</td>\n",
       "    </tr>\n",
       "    <tr>\n",
       "      <th>2010-01-05</th>\n",
       "      <td>31.1</td>\n",
       "      <td>30.639999</td>\n",
       "      <td>30.850000</td>\n",
       "      <td>30.959999</td>\n",
       "      <td>49749600.0</td>\n",
       "      <td>23.863363</td>\n",
       "    </tr>\n",
       "  </tbody>\n",
       "</table>\n",
       "</div>"
      ],
      "text/plain": [
       "            High        Low       Open      Close      Volume  Adj Close\n",
       "Date                                                                    \n",
       "2010-01-04  31.1  30.590000  30.620001  30.950001  38409100.0  23.855652\n",
       "2010-01-05  31.1  30.639999  30.850000  30.959999  49749600.0  23.863363"
      ]
     },
     "execution_count": 66,
     "metadata": {},
     "output_type": "execute_result"
    }
   ],
   "source": [
    "# Pull multiple values, you need to wrap first \n",
    "stocks.loc[[pd.Timestamp('2010-01-04'), pd.Timestamp('2010-01-05')]]"
   ]
  },
  {
   "cell_type": "code",
   "execution_count": 71,
   "id": "15096385",
   "metadata": {},
   "outputs": [
    {
     "data": {
      "text/html": [
       "<div>\n",
       "<style scoped>\n",
       "    .dataframe tbody tr th:only-of-type {\n",
       "        vertical-align: middle;\n",
       "    }\n",
       "\n",
       "    .dataframe tbody tr th {\n",
       "        vertical-align: top;\n",
       "    }\n",
       "\n",
       "    .dataframe thead th {\n",
       "        text-align: right;\n",
       "    }\n",
       "</style>\n",
       "<table border=\"1\" class=\"dataframe\">\n",
       "  <thead>\n",
       "    <tr style=\"text-align: right;\">\n",
       "      <th></th>\n",
       "      <th>High</th>\n",
       "      <th>Low</th>\n",
       "      <th>Open</th>\n",
       "      <th>Close</th>\n",
       "      <th>Volume</th>\n",
       "      <th>Adj Close</th>\n",
       "    </tr>\n",
       "    <tr>\n",
       "      <th>Date</th>\n",
       "      <th></th>\n",
       "      <th></th>\n",
       "      <th></th>\n",
       "      <th></th>\n",
       "      <th></th>\n",
       "      <th></th>\n",
       "    </tr>\n",
       "  </thead>\n",
       "  <tbody>\n",
       "    <tr>\n",
       "      <th>2010-10-21</th>\n",
       "      <td>25.540001</td>\n",
       "      <td>25.049999</td>\n",
       "      <td>25.400000</td>\n",
       "      <td>25.420000</td>\n",
       "      <td>50032400.0</td>\n",
       "      <td>19.879173</td>\n",
       "    </tr>\n",
       "    <tr>\n",
       "      <th>2011-10-21</th>\n",
       "      <td>27.190001</td>\n",
       "      <td>26.799999</td>\n",
       "      <td>27.150000</td>\n",
       "      <td>27.160000</td>\n",
       "      <td>76620600.0</td>\n",
       "      <td>21.774193</td>\n",
       "    </tr>\n",
       "    <tr>\n",
       "      <th>2013-10-21</th>\n",
       "      <td>35.200001</td>\n",
       "      <td>34.910000</td>\n",
       "      <td>34.980000</td>\n",
       "      <td>34.990002</td>\n",
       "      <td>27433500.0</td>\n",
       "      <td>29.716061</td>\n",
       "    </tr>\n",
       "    <tr>\n",
       "      <th>2014-10-21</th>\n",
       "      <td>44.980000</td>\n",
       "      <td>44.189999</td>\n",
       "      <td>44.360001</td>\n",
       "      <td>44.880001</td>\n",
       "      <td>36433800.0</td>\n",
       "      <td>39.208752</td>\n",
       "    </tr>\n",
       "    <tr>\n",
       "      <th>2015-10-21</th>\n",
       "      <td>47.990002</td>\n",
       "      <td>47.110001</td>\n",
       "      <td>47.919998</td>\n",
       "      <td>47.200001</td>\n",
       "      <td>25144300.0</td>\n",
       "      <td>42.339947</td>\n",
       "    </tr>\n",
       "    <tr>\n",
       "      <th>2016-10-21</th>\n",
       "      <td>60.450001</td>\n",
       "      <td>59.490002</td>\n",
       "      <td>60.279999</td>\n",
       "      <td>59.660000</td>\n",
       "      <td>80032200.0</td>\n",
       "      <td>54.984650</td>\n",
       "    </tr>\n",
       "    <tr>\n",
       "      <th>2019-10-21</th>\n",
       "      <td>138.500000</td>\n",
       "      <td>137.009995</td>\n",
       "      <td>138.449997</td>\n",
       "      <td>138.429993</td>\n",
       "      <td>20078200.0</td>\n",
       "      <td>135.100250</td>\n",
       "    </tr>\n",
       "    <tr>\n",
       "      <th>2020-10-21</th>\n",
       "      <td>216.919998</td>\n",
       "      <td>213.119995</td>\n",
       "      <td>213.119995</td>\n",
       "      <td>214.800003</td>\n",
       "      <td>22724900.0</td>\n",
       "      <td>212.019821</td>\n",
       "    </tr>\n",
       "  </tbody>\n",
       "</table>\n",
       "</div>"
      ],
      "text/plain": [
       "                  High         Low        Open       Close      Volume  \\\n",
       "Date                                                                     \n",
       "2010-10-21   25.540001   25.049999   25.400000   25.420000  50032400.0   \n",
       "2011-10-21   27.190001   26.799999   27.150000   27.160000  76620600.0   \n",
       "2013-10-21   35.200001   34.910000   34.980000   34.990002  27433500.0   \n",
       "2014-10-21   44.980000   44.189999   44.360001   44.880001  36433800.0   \n",
       "2015-10-21   47.990002   47.110001   47.919998   47.200001  25144300.0   \n",
       "2016-10-21   60.450001   59.490002   60.279999   59.660000  80032200.0   \n",
       "2019-10-21  138.500000  137.009995  138.449997  138.429993  20078200.0   \n",
       "2020-10-21  216.919998  213.119995  213.119995  214.800003  22724900.0   \n",
       "\n",
       "             Adj Close  \n",
       "Date                    \n",
       "2010-10-21   19.879173  \n",
       "2011-10-21   21.774193  \n",
       "2013-10-21   29.716061  \n",
       "2014-10-21   39.208752  \n",
       "2015-10-21   42.339947  \n",
       "2016-10-21   54.984650  \n",
       "2019-10-21  135.100250  \n",
       "2020-10-21  212.019821  "
      ]
     },
     "execution_count": 71,
     "metadata": {},
     "output_type": "execute_result"
    }
   ],
   "source": [
    "# Pull msft prices on my bday\n",
    "bdays = pd.date_range(start='1989-10-21', end='2020-12-31', freq=pd.DateOffset(years=1))\n",
    "mask = stocks.index.isin(bdays)\n",
    "stocks[mask]"
   ]
  },
  {
   "cell_type": "markdown",
   "id": "1b73649d",
   "metadata": {},
   "source": [
    "### The `Timestamp` object attributes and methods"
   ]
  },
  {
   "cell_type": "code",
   "execution_count": 72,
   "id": "6bc94979",
   "metadata": {},
   "outputs": [
    {
     "data": {
      "text/html": [
       "<div>\n",
       "<style scoped>\n",
       "    .dataframe tbody tr th:only-of-type {\n",
       "        vertical-align: middle;\n",
       "    }\n",
       "\n",
       "    .dataframe tbody tr th {\n",
       "        vertical-align: top;\n",
       "    }\n",
       "\n",
       "    .dataframe thead th {\n",
       "        text-align: right;\n",
       "    }\n",
       "</style>\n",
       "<table border=\"1\" class=\"dataframe\">\n",
       "  <thead>\n",
       "    <tr style=\"text-align: right;\">\n",
       "      <th></th>\n",
       "      <th>High</th>\n",
       "      <th>Low</th>\n",
       "      <th>Open</th>\n",
       "      <th>Close</th>\n",
       "      <th>Volume</th>\n",
       "      <th>Adj Close</th>\n",
       "    </tr>\n",
       "    <tr>\n",
       "      <th>Date</th>\n",
       "      <th></th>\n",
       "      <th></th>\n",
       "      <th></th>\n",
       "      <th></th>\n",
       "      <th></th>\n",
       "      <th></th>\n",
       "    </tr>\n",
       "  </thead>\n",
       "  <tbody>\n",
       "    <tr>\n",
       "      <th>2010-01-04</th>\n",
       "      <td>31.1</td>\n",
       "      <td>30.590000</td>\n",
       "      <td>30.620001</td>\n",
       "      <td>30.950001</td>\n",
       "      <td>38409100.0</td>\n",
       "      <td>23.855652</td>\n",
       "    </tr>\n",
       "    <tr>\n",
       "      <th>2010-01-05</th>\n",
       "      <td>31.1</td>\n",
       "      <td>30.639999</td>\n",
       "      <td>30.850000</td>\n",
       "      <td>30.959999</td>\n",
       "      <td>49749600.0</td>\n",
       "      <td>23.863365</td>\n",
       "    </tr>\n",
       "  </tbody>\n",
       "</table>\n",
       "</div>"
      ],
      "text/plain": [
       "            High        Low       Open      Close      Volume  Adj Close\n",
       "Date                                                                    \n",
       "2010-01-04  31.1  30.590000  30.620001  30.950001  38409100.0  23.855652\n",
       "2010-01-05  31.1  30.639999  30.850000  30.959999  49749600.0  23.863365"
      ]
     },
     "execution_count": 72,
     "metadata": {},
     "output_type": "execute_result"
    }
   ],
   "source": [
    "stocks = data.DataReader(name='MSFT', \n",
    "                data_source='yahoo', \n",
    "                start='2010-01-01', \n",
    "                end='2020-12-31')\n",
    "stocks.head(2)"
   ]
  },
  {
   "cell_type": "code",
   "execution_count": 76,
   "id": "a4b5780d",
   "metadata": {},
   "outputs": [
    {
     "data": {
      "text/plain": [
       "Timestamp('2011-12-27 00:00:00')"
      ]
     },
     "execution_count": 76,
     "metadata": {},
     "output_type": "execute_result"
    }
   ],
   "source": [
    "someday = stocks.index[500]\n",
    "someday"
   ]
  },
  {
   "cell_type": "code",
   "execution_count": 82,
   "id": "02b2c3ba",
   "metadata": {},
   "outputs": [
    {
     "data": {
      "text/plain": [
       "'Tuesday'"
      ]
     },
     "execution_count": 82,
     "metadata": {},
     "output_type": "execute_result"
    }
   ],
   "source": [
    "someday.month\n",
    "someday.week\n",
    "someday.is_month_start\n",
    "someday.day\n",
    "someday.month_name()\n",
    "someday.day_name()"
   ]
  },
  {
   "cell_type": "code",
   "execution_count": 84,
   "id": "85ddfd4c",
   "metadata": {},
   "outputs": [
    {
     "ename": "ValueError",
     "evalue": "cannot insert Day of Week, already exists",
     "output_type": "error",
     "traceback": [
      "\u001b[1;31m---------------------------------------------------------------------------\u001b[0m",
      "\u001b[1;31mValueError\u001b[0m                                Traceback (most recent call last)",
      "Input \u001b[1;32mIn [84]\u001b[0m, in \u001b[0;36m<module>\u001b[1;34m\u001b[0m\n\u001b[1;32m----> 1\u001b[0m \u001b[43mstocks\u001b[49m\u001b[38;5;241;43m.\u001b[39;49m\u001b[43minsert\u001b[49m\u001b[43m(\u001b[49m\u001b[38;5;241;43m0\u001b[39;49m\u001b[43m,\u001b[49m\u001b[43m \u001b[49m\u001b[38;5;124;43m'\u001b[39;49m\u001b[38;5;124;43mDay of Week\u001b[39;49m\u001b[38;5;124;43m'\u001b[39;49m\u001b[43m,\u001b[49m\u001b[43m \u001b[49m\u001b[43mstocks\u001b[49m\u001b[38;5;241;43m.\u001b[39;49m\u001b[43mindex\u001b[49m\u001b[38;5;241;43m.\u001b[39;49m\u001b[43mday_name\u001b[49m\u001b[43m(\u001b[49m\u001b[43m)\u001b[49m\u001b[43m)\u001b[49m\n\u001b[0;32m      2\u001b[0m stocks\n",
      "File \u001b[1;32m~\\anaconda3\\envs\\pandas_playground\\lib\\site-packages\\pandas\\core\\frame.py:4434\u001b[0m, in \u001b[0;36mDataFrame.insert\u001b[1;34m(self, loc, column, value, allow_duplicates)\u001b[0m\n\u001b[0;32m   4428\u001b[0m     \u001b[38;5;28;01mraise\u001b[39;00m \u001b[38;5;167;01mValueError\u001b[39;00m(\n\u001b[0;32m   4429\u001b[0m         \u001b[38;5;124m\"\u001b[39m\u001b[38;5;124mCannot specify \u001b[39m\u001b[38;5;124m'\u001b[39m\u001b[38;5;124mallow_duplicates=True\u001b[39m\u001b[38;5;124m'\u001b[39m\u001b[38;5;124m when \u001b[39m\u001b[38;5;124m\"\u001b[39m\n\u001b[0;32m   4430\u001b[0m         \u001b[38;5;124m\"\u001b[39m\u001b[38;5;124m'\u001b[39m\u001b[38;5;124mself.flags.allows_duplicate_labels\u001b[39m\u001b[38;5;124m'\u001b[39m\u001b[38;5;124m is False.\u001b[39m\u001b[38;5;124m\"\u001b[39m\n\u001b[0;32m   4431\u001b[0m     )\n\u001b[0;32m   4432\u001b[0m \u001b[38;5;28;01mif\u001b[39;00m \u001b[38;5;129;01mnot\u001b[39;00m allow_duplicates \u001b[38;5;129;01mand\u001b[39;00m column \u001b[38;5;129;01min\u001b[39;00m \u001b[38;5;28mself\u001b[39m\u001b[38;5;241m.\u001b[39mcolumns:\n\u001b[0;32m   4433\u001b[0m     \u001b[38;5;66;03m# Should this be a different kind of error??\u001b[39;00m\n\u001b[1;32m-> 4434\u001b[0m     \u001b[38;5;28;01mraise\u001b[39;00m \u001b[38;5;167;01mValueError\u001b[39;00m(\u001b[38;5;124mf\u001b[39m\u001b[38;5;124m\"\u001b[39m\u001b[38;5;124mcannot insert \u001b[39m\u001b[38;5;132;01m{\u001b[39;00mcolumn\u001b[38;5;132;01m}\u001b[39;00m\u001b[38;5;124m, already exists\u001b[39m\u001b[38;5;124m\"\u001b[39m)\n\u001b[0;32m   4435\u001b[0m \u001b[38;5;28;01mif\u001b[39;00m \u001b[38;5;129;01mnot\u001b[39;00m \u001b[38;5;28misinstance\u001b[39m(loc, \u001b[38;5;28mint\u001b[39m):\n\u001b[0;32m   4436\u001b[0m     \u001b[38;5;28;01mraise\u001b[39;00m \u001b[38;5;167;01mTypeError\u001b[39;00m(\u001b[38;5;124m\"\u001b[39m\u001b[38;5;124mloc must be int\u001b[39m\u001b[38;5;124m\"\u001b[39m)\n",
      "\u001b[1;31mValueError\u001b[0m: cannot insert Day of Week, already exists"
     ]
    }
   ],
   "source": [
    "stocks.insert(0, 'Day of Week', stocks.index.day_name())"
   ]
  },
  {
   "cell_type": "code",
   "execution_count": 85,
   "id": "fadd0f18",
   "metadata": {},
   "outputs": [
    {
     "data": {
      "text/html": [
       "<div>\n",
       "<style scoped>\n",
       "    .dataframe tbody tr th:only-of-type {\n",
       "        vertical-align: middle;\n",
       "    }\n",
       "\n",
       "    .dataframe tbody tr th {\n",
       "        vertical-align: top;\n",
       "    }\n",
       "\n",
       "    .dataframe thead th {\n",
       "        text-align: right;\n",
       "    }\n",
       "</style>\n",
       "<table border=\"1\" class=\"dataframe\">\n",
       "  <thead>\n",
       "    <tr style=\"text-align: right;\">\n",
       "      <th></th>\n",
       "      <th>Day of Week</th>\n",
       "      <th>High</th>\n",
       "      <th>Low</th>\n",
       "      <th>Open</th>\n",
       "      <th>Close</th>\n",
       "      <th>Volume</th>\n",
       "      <th>Adj Close</th>\n",
       "    </tr>\n",
       "    <tr>\n",
       "      <th>Date</th>\n",
       "      <th></th>\n",
       "      <th></th>\n",
       "      <th></th>\n",
       "      <th></th>\n",
       "      <th></th>\n",
       "      <th></th>\n",
       "      <th></th>\n",
       "    </tr>\n",
       "  </thead>\n",
       "  <tbody>\n",
       "    <tr>\n",
       "      <th>2010-01-04</th>\n",
       "      <td>Monday</td>\n",
       "      <td>31.100000</td>\n",
       "      <td>30.590000</td>\n",
       "      <td>30.620001</td>\n",
       "      <td>30.950001</td>\n",
       "      <td>38409100.0</td>\n",
       "      <td>23.855652</td>\n",
       "    </tr>\n",
       "    <tr>\n",
       "      <th>2010-01-05</th>\n",
       "      <td>Tuesday</td>\n",
       "      <td>31.100000</td>\n",
       "      <td>30.639999</td>\n",
       "      <td>30.850000</td>\n",
       "      <td>30.959999</td>\n",
       "      <td>49749600.0</td>\n",
       "      <td>23.863365</td>\n",
       "    </tr>\n",
       "    <tr>\n",
       "      <th>2010-01-06</th>\n",
       "      <td>Wednesday</td>\n",
       "      <td>31.080000</td>\n",
       "      <td>30.520000</td>\n",
       "      <td>30.879999</td>\n",
       "      <td>30.770000</td>\n",
       "      <td>58182400.0</td>\n",
       "      <td>23.716919</td>\n",
       "    </tr>\n",
       "    <tr>\n",
       "      <th>2010-01-07</th>\n",
       "      <td>Thursday</td>\n",
       "      <td>30.700001</td>\n",
       "      <td>30.190001</td>\n",
       "      <td>30.629999</td>\n",
       "      <td>30.450001</td>\n",
       "      <td>50559700.0</td>\n",
       "      <td>23.470270</td>\n",
       "    </tr>\n",
       "    <tr>\n",
       "      <th>2010-01-08</th>\n",
       "      <td>Friday</td>\n",
       "      <td>30.879999</td>\n",
       "      <td>30.240000</td>\n",
       "      <td>30.280001</td>\n",
       "      <td>30.660000</td>\n",
       "      <td>51197400.0</td>\n",
       "      <td>23.632135</td>\n",
       "    </tr>\n",
       "    <tr>\n",
       "      <th>...</th>\n",
       "      <td>...</td>\n",
       "      <td>...</td>\n",
       "      <td>...</td>\n",
       "      <td>...</td>\n",
       "      <td>...</td>\n",
       "      <td>...</td>\n",
       "      <td>...</td>\n",
       "    </tr>\n",
       "    <tr>\n",
       "      <th>2020-12-24</th>\n",
       "      <td>Thursday</td>\n",
       "      <td>223.610001</td>\n",
       "      <td>221.199997</td>\n",
       "      <td>221.419998</td>\n",
       "      <td>222.750000</td>\n",
       "      <td>10550600.0</td>\n",
       "      <td>220.442566</td>\n",
       "    </tr>\n",
       "    <tr>\n",
       "      <th>2020-12-28</th>\n",
       "      <td>Monday</td>\n",
       "      <td>226.029999</td>\n",
       "      <td>223.020004</td>\n",
       "      <td>224.449997</td>\n",
       "      <td>224.960007</td>\n",
       "      <td>17933500.0</td>\n",
       "      <td>222.629654</td>\n",
       "    </tr>\n",
       "    <tr>\n",
       "      <th>2020-12-29</th>\n",
       "      <td>Tuesday</td>\n",
       "      <td>227.179993</td>\n",
       "      <td>223.580002</td>\n",
       "      <td>226.309998</td>\n",
       "      <td>224.149994</td>\n",
       "      <td>17403200.0</td>\n",
       "      <td>221.828064</td>\n",
       "    </tr>\n",
       "    <tr>\n",
       "      <th>2020-12-30</th>\n",
       "      <td>Wednesday</td>\n",
       "      <td>225.630005</td>\n",
       "      <td>221.470001</td>\n",
       "      <td>225.229996</td>\n",
       "      <td>221.679993</td>\n",
       "      <td>20272300.0</td>\n",
       "      <td>219.383636</td>\n",
       "    </tr>\n",
       "    <tr>\n",
       "      <th>2020-12-31</th>\n",
       "      <td>Thursday</td>\n",
       "      <td>223.000000</td>\n",
       "      <td>219.679993</td>\n",
       "      <td>221.699997</td>\n",
       "      <td>222.419998</td>\n",
       "      <td>20942100.0</td>\n",
       "      <td>220.115967</td>\n",
       "    </tr>\n",
       "  </tbody>\n",
       "</table>\n",
       "<p>2769 rows × 7 columns</p>\n",
       "</div>"
      ],
      "text/plain": [
       "           Day of Week        High         Low        Open       Close  \\\n",
       "Date                                                                     \n",
       "2010-01-04      Monday   31.100000   30.590000   30.620001   30.950001   \n",
       "2010-01-05     Tuesday   31.100000   30.639999   30.850000   30.959999   \n",
       "2010-01-06   Wednesday   31.080000   30.520000   30.879999   30.770000   \n",
       "2010-01-07    Thursday   30.700001   30.190001   30.629999   30.450001   \n",
       "2010-01-08      Friday   30.879999   30.240000   30.280001   30.660000   \n",
       "...                ...         ...         ...         ...         ...   \n",
       "2020-12-24    Thursday  223.610001  221.199997  221.419998  222.750000   \n",
       "2020-12-28      Monday  226.029999  223.020004  224.449997  224.960007   \n",
       "2020-12-29     Tuesday  227.179993  223.580002  226.309998  224.149994   \n",
       "2020-12-30   Wednesday  225.630005  221.470001  225.229996  221.679993   \n",
       "2020-12-31    Thursday  223.000000  219.679993  221.699997  222.419998   \n",
       "\n",
       "                Volume   Adj Close  \n",
       "Date                                \n",
       "2010-01-04  38409100.0   23.855652  \n",
       "2010-01-05  49749600.0   23.863365  \n",
       "2010-01-06  58182400.0   23.716919  \n",
       "2010-01-07  50559700.0   23.470270  \n",
       "2010-01-08  51197400.0   23.632135  \n",
       "...                ...         ...  \n",
       "2020-12-24  10550600.0  220.442566  \n",
       "2020-12-28  17933500.0  222.629654  \n",
       "2020-12-29  17403200.0  221.828064  \n",
       "2020-12-30  20272300.0  219.383636  \n",
       "2020-12-31  20942100.0  220.115967  \n",
       "\n",
       "[2769 rows x 7 columns]"
      ]
     },
     "execution_count": 85,
     "metadata": {},
     "output_type": "execute_result"
    }
   ],
   "source": [
    "stocks"
   ]
  },
  {
   "cell_type": "code",
   "execution_count": 87,
   "id": "ab936009",
   "metadata": {},
   "outputs": [
    {
     "ename": "ValueError",
     "evalue": "cannot insert Is Start of Month, already exists",
     "output_type": "error",
     "traceback": [
      "\u001b[1;31m---------------------------------------------------------------------------\u001b[0m",
      "\u001b[1;31mValueError\u001b[0m                                Traceback (most recent call last)",
      "Input \u001b[1;32mIn [87]\u001b[0m, in \u001b[0;36m<module>\u001b[1;34m\u001b[0m\n\u001b[1;32m----> 1\u001b[0m \u001b[43mstocks\u001b[49m\u001b[38;5;241;43m.\u001b[39;49m\u001b[43minsert\u001b[49m\u001b[43m(\u001b[49m\u001b[38;5;241;43m1\u001b[39;49m\u001b[43m,\u001b[49m\u001b[43m \u001b[49m\u001b[38;5;124;43m'\u001b[39;49m\u001b[38;5;124;43mIs Start of Month\u001b[39;49m\u001b[38;5;124;43m'\u001b[39;49m\u001b[43m,\u001b[49m\u001b[43m \u001b[49m\u001b[43mstocks\u001b[49m\u001b[38;5;241;43m.\u001b[39;49m\u001b[43mindex\u001b[49m\u001b[38;5;241;43m.\u001b[39;49m\u001b[43mis_month_start\u001b[49m\u001b[43m)\u001b[49m\n",
      "File \u001b[1;32m~\\anaconda3\\envs\\pandas_playground\\lib\\site-packages\\pandas\\core\\frame.py:4434\u001b[0m, in \u001b[0;36mDataFrame.insert\u001b[1;34m(self, loc, column, value, allow_duplicates)\u001b[0m\n\u001b[0;32m   4428\u001b[0m     \u001b[38;5;28;01mraise\u001b[39;00m \u001b[38;5;167;01mValueError\u001b[39;00m(\n\u001b[0;32m   4429\u001b[0m         \u001b[38;5;124m\"\u001b[39m\u001b[38;5;124mCannot specify \u001b[39m\u001b[38;5;124m'\u001b[39m\u001b[38;5;124mallow_duplicates=True\u001b[39m\u001b[38;5;124m'\u001b[39m\u001b[38;5;124m when \u001b[39m\u001b[38;5;124m\"\u001b[39m\n\u001b[0;32m   4430\u001b[0m         \u001b[38;5;124m\"\u001b[39m\u001b[38;5;124m'\u001b[39m\u001b[38;5;124mself.flags.allows_duplicate_labels\u001b[39m\u001b[38;5;124m'\u001b[39m\u001b[38;5;124m is False.\u001b[39m\u001b[38;5;124m\"\u001b[39m\n\u001b[0;32m   4431\u001b[0m     )\n\u001b[0;32m   4432\u001b[0m \u001b[38;5;28;01mif\u001b[39;00m \u001b[38;5;129;01mnot\u001b[39;00m allow_duplicates \u001b[38;5;129;01mand\u001b[39;00m column \u001b[38;5;129;01min\u001b[39;00m \u001b[38;5;28mself\u001b[39m\u001b[38;5;241m.\u001b[39mcolumns:\n\u001b[0;32m   4433\u001b[0m     \u001b[38;5;66;03m# Should this be a different kind of error??\u001b[39;00m\n\u001b[1;32m-> 4434\u001b[0m     \u001b[38;5;28;01mraise\u001b[39;00m \u001b[38;5;167;01mValueError\u001b[39;00m(\u001b[38;5;124mf\u001b[39m\u001b[38;5;124m\"\u001b[39m\u001b[38;5;124mcannot insert \u001b[39m\u001b[38;5;132;01m{\u001b[39;00mcolumn\u001b[38;5;132;01m}\u001b[39;00m\u001b[38;5;124m, already exists\u001b[39m\u001b[38;5;124m\"\u001b[39m)\n\u001b[0;32m   4435\u001b[0m \u001b[38;5;28;01mif\u001b[39;00m \u001b[38;5;129;01mnot\u001b[39;00m \u001b[38;5;28misinstance\u001b[39m(loc, \u001b[38;5;28mint\u001b[39m):\n\u001b[0;32m   4436\u001b[0m     \u001b[38;5;28;01mraise\u001b[39;00m \u001b[38;5;167;01mTypeError\u001b[39;00m(\u001b[38;5;124m\"\u001b[39m\u001b[38;5;124mloc must be int\u001b[39m\u001b[38;5;124m\"\u001b[39m)\n",
      "\u001b[1;31mValueError\u001b[0m: cannot insert Is Start of Month, already exists"
     ]
    }
   ],
   "source": [
    "stocks.insert(1, 'Is Start of Month', stocks.index.is_month_start)"
   ]
  },
  {
   "cell_type": "code",
   "execution_count": 88,
   "id": "ceb1022a",
   "metadata": {},
   "outputs": [
    {
     "data": {
      "text/html": [
       "<div>\n",
       "<style scoped>\n",
       "    .dataframe tbody tr th:only-of-type {\n",
       "        vertical-align: middle;\n",
       "    }\n",
       "\n",
       "    .dataframe tbody tr th {\n",
       "        vertical-align: top;\n",
       "    }\n",
       "\n",
       "    .dataframe thead th {\n",
       "        text-align: right;\n",
       "    }\n",
       "</style>\n",
       "<table border=\"1\" class=\"dataframe\">\n",
       "  <thead>\n",
       "    <tr style=\"text-align: right;\">\n",
       "      <th></th>\n",
       "      <th>Day of Week</th>\n",
       "      <th>Is Start of Month</th>\n",
       "      <th>High</th>\n",
       "      <th>Low</th>\n",
       "      <th>Open</th>\n",
       "      <th>Close</th>\n",
       "      <th>Volume</th>\n",
       "      <th>Adj Close</th>\n",
       "    </tr>\n",
       "    <tr>\n",
       "      <th>Date</th>\n",
       "      <th></th>\n",
       "      <th></th>\n",
       "      <th></th>\n",
       "      <th></th>\n",
       "      <th></th>\n",
       "      <th></th>\n",
       "      <th></th>\n",
       "      <th></th>\n",
       "    </tr>\n",
       "  </thead>\n",
       "  <tbody>\n",
       "    <tr>\n",
       "      <th>2010-01-04</th>\n",
       "      <td>Monday</td>\n",
       "      <td>False</td>\n",
       "      <td>31.100000</td>\n",
       "      <td>30.590000</td>\n",
       "      <td>30.620001</td>\n",
       "      <td>30.950001</td>\n",
       "      <td>38409100.0</td>\n",
       "      <td>23.855652</td>\n",
       "    </tr>\n",
       "    <tr>\n",
       "      <th>2010-01-05</th>\n",
       "      <td>Tuesday</td>\n",
       "      <td>False</td>\n",
       "      <td>31.100000</td>\n",
       "      <td>30.639999</td>\n",
       "      <td>30.850000</td>\n",
       "      <td>30.959999</td>\n",
       "      <td>49749600.0</td>\n",
       "      <td>23.863365</td>\n",
       "    </tr>\n",
       "    <tr>\n",
       "      <th>2010-01-06</th>\n",
       "      <td>Wednesday</td>\n",
       "      <td>False</td>\n",
       "      <td>31.080000</td>\n",
       "      <td>30.520000</td>\n",
       "      <td>30.879999</td>\n",
       "      <td>30.770000</td>\n",
       "      <td>58182400.0</td>\n",
       "      <td>23.716919</td>\n",
       "    </tr>\n",
       "    <tr>\n",
       "      <th>2010-01-07</th>\n",
       "      <td>Thursday</td>\n",
       "      <td>False</td>\n",
       "      <td>30.700001</td>\n",
       "      <td>30.190001</td>\n",
       "      <td>30.629999</td>\n",
       "      <td>30.450001</td>\n",
       "      <td>50559700.0</td>\n",
       "      <td>23.470270</td>\n",
       "    </tr>\n",
       "    <tr>\n",
       "      <th>2010-01-08</th>\n",
       "      <td>Friday</td>\n",
       "      <td>False</td>\n",
       "      <td>30.879999</td>\n",
       "      <td>30.240000</td>\n",
       "      <td>30.280001</td>\n",
       "      <td>30.660000</td>\n",
       "      <td>51197400.0</td>\n",
       "      <td>23.632135</td>\n",
       "    </tr>\n",
       "    <tr>\n",
       "      <th>...</th>\n",
       "      <td>...</td>\n",
       "      <td>...</td>\n",
       "      <td>...</td>\n",
       "      <td>...</td>\n",
       "      <td>...</td>\n",
       "      <td>...</td>\n",
       "      <td>...</td>\n",
       "      <td>...</td>\n",
       "    </tr>\n",
       "    <tr>\n",
       "      <th>2020-12-24</th>\n",
       "      <td>Thursday</td>\n",
       "      <td>False</td>\n",
       "      <td>223.610001</td>\n",
       "      <td>221.199997</td>\n",
       "      <td>221.419998</td>\n",
       "      <td>222.750000</td>\n",
       "      <td>10550600.0</td>\n",
       "      <td>220.442566</td>\n",
       "    </tr>\n",
       "    <tr>\n",
       "      <th>2020-12-28</th>\n",
       "      <td>Monday</td>\n",
       "      <td>False</td>\n",
       "      <td>226.029999</td>\n",
       "      <td>223.020004</td>\n",
       "      <td>224.449997</td>\n",
       "      <td>224.960007</td>\n",
       "      <td>17933500.0</td>\n",
       "      <td>222.629654</td>\n",
       "    </tr>\n",
       "    <tr>\n",
       "      <th>2020-12-29</th>\n",
       "      <td>Tuesday</td>\n",
       "      <td>False</td>\n",
       "      <td>227.179993</td>\n",
       "      <td>223.580002</td>\n",
       "      <td>226.309998</td>\n",
       "      <td>224.149994</td>\n",
       "      <td>17403200.0</td>\n",
       "      <td>221.828064</td>\n",
       "    </tr>\n",
       "    <tr>\n",
       "      <th>2020-12-30</th>\n",
       "      <td>Wednesday</td>\n",
       "      <td>False</td>\n",
       "      <td>225.630005</td>\n",
       "      <td>221.470001</td>\n",
       "      <td>225.229996</td>\n",
       "      <td>221.679993</td>\n",
       "      <td>20272300.0</td>\n",
       "      <td>219.383636</td>\n",
       "    </tr>\n",
       "    <tr>\n",
       "      <th>2020-12-31</th>\n",
       "      <td>Thursday</td>\n",
       "      <td>False</td>\n",
       "      <td>223.000000</td>\n",
       "      <td>219.679993</td>\n",
       "      <td>221.699997</td>\n",
       "      <td>222.419998</td>\n",
       "      <td>20942100.0</td>\n",
       "      <td>220.115967</td>\n",
       "    </tr>\n",
       "  </tbody>\n",
       "</table>\n",
       "<p>2769 rows × 8 columns</p>\n",
       "</div>"
      ],
      "text/plain": [
       "           Day of Week  Is Start of Month        High         Low        Open  \\\n",
       "Date                                                                            \n",
       "2010-01-04      Monday              False   31.100000   30.590000   30.620001   \n",
       "2010-01-05     Tuesday              False   31.100000   30.639999   30.850000   \n",
       "2010-01-06   Wednesday              False   31.080000   30.520000   30.879999   \n",
       "2010-01-07    Thursday              False   30.700001   30.190001   30.629999   \n",
       "2010-01-08      Friday              False   30.879999   30.240000   30.280001   \n",
       "...                ...                ...         ...         ...         ...   \n",
       "2020-12-24    Thursday              False  223.610001  221.199997  221.419998   \n",
       "2020-12-28      Monday              False  226.029999  223.020004  224.449997   \n",
       "2020-12-29     Tuesday              False  227.179993  223.580002  226.309998   \n",
       "2020-12-30   Wednesday              False  225.630005  221.470001  225.229996   \n",
       "2020-12-31    Thursday              False  223.000000  219.679993  221.699997   \n",
       "\n",
       "                 Close      Volume   Adj Close  \n",
       "Date                                            \n",
       "2010-01-04   30.950001  38409100.0   23.855652  \n",
       "2010-01-05   30.959999  49749600.0   23.863365  \n",
       "2010-01-06   30.770000  58182400.0   23.716919  \n",
       "2010-01-07   30.450001  50559700.0   23.470270  \n",
       "2010-01-08   30.660000  51197400.0   23.632135  \n",
       "...                ...         ...         ...  \n",
       "2020-12-24  222.750000  10550600.0  220.442566  \n",
       "2020-12-28  224.960007  17933500.0  222.629654  \n",
       "2020-12-29  224.149994  17403200.0  221.828064  \n",
       "2020-12-30  221.679993  20272300.0  219.383636  \n",
       "2020-12-31  222.419998  20942100.0  220.115967  \n",
       "\n",
       "[2769 rows x 8 columns]"
      ]
     },
     "execution_count": 88,
     "metadata": {},
     "output_type": "execute_result"
    }
   ],
   "source": [
    "stocks"
   ]
  },
  {
   "cell_type": "code",
   "execution_count": 90,
   "id": "2e5ce187",
   "metadata": {},
   "outputs": [
    {
     "data": {
      "text/html": [
       "<div>\n",
       "<style scoped>\n",
       "    .dataframe tbody tr th:only-of-type {\n",
       "        vertical-align: middle;\n",
       "    }\n",
       "\n",
       "    .dataframe tbody tr th {\n",
       "        vertical-align: top;\n",
       "    }\n",
       "\n",
       "    .dataframe thead th {\n",
       "        text-align: right;\n",
       "    }\n",
       "</style>\n",
       "<table border=\"1\" class=\"dataframe\">\n",
       "  <thead>\n",
       "    <tr style=\"text-align: right;\">\n",
       "      <th></th>\n",
       "      <th>Day of Week</th>\n",
       "      <th>Is Start of Month</th>\n",
       "      <th>High</th>\n",
       "      <th>Low</th>\n",
       "      <th>Open</th>\n",
       "      <th>Close</th>\n",
       "      <th>Volume</th>\n",
       "      <th>Adj Close</th>\n",
       "    </tr>\n",
       "    <tr>\n",
       "      <th>Date</th>\n",
       "      <th></th>\n",
       "      <th></th>\n",
       "      <th></th>\n",
       "      <th></th>\n",
       "      <th></th>\n",
       "      <th></th>\n",
       "      <th></th>\n",
       "      <th></th>\n",
       "    </tr>\n",
       "  </thead>\n",
       "  <tbody>\n",
       "    <tr>\n",
       "      <th>2010-02-01</th>\n",
       "      <td>Monday</td>\n",
       "      <td>True</td>\n",
       "      <td>28.480000</td>\n",
       "      <td>27.920000</td>\n",
       "      <td>28.389999</td>\n",
       "      <td>28.410000</td>\n",
       "      <td>85931100.0</td>\n",
       "      <td>21.897875</td>\n",
       "    </tr>\n",
       "    <tr>\n",
       "      <th>2010-03-01</th>\n",
       "      <td>Monday</td>\n",
       "      <td>True</td>\n",
       "      <td>29.049999</td>\n",
       "      <td>28.530001</td>\n",
       "      <td>28.770000</td>\n",
       "      <td>29.020000</td>\n",
       "      <td>43805400.0</td>\n",
       "      <td>22.472647</td>\n",
       "    </tr>\n",
       "    <tr>\n",
       "      <th>2010-04-01</th>\n",
       "      <td>Thursday</td>\n",
       "      <td>True</td>\n",
       "      <td>29.540001</td>\n",
       "      <td>28.620001</td>\n",
       "      <td>29.350000</td>\n",
       "      <td>29.160000</td>\n",
       "      <td>74768100.0</td>\n",
       "      <td>22.581060</td>\n",
       "    </tr>\n",
       "    <tr>\n",
       "      <th>2010-06-01</th>\n",
       "      <td>Tuesday</td>\n",
       "      <td>True</td>\n",
       "      <td>26.309999</td>\n",
       "      <td>25.520000</td>\n",
       "      <td>25.530001</td>\n",
       "      <td>25.889999</td>\n",
       "      <td>76152400.0</td>\n",
       "      <td>20.139286</td>\n",
       "    </tr>\n",
       "    <tr>\n",
       "      <th>2010-07-01</th>\n",
       "      <td>Thursday</td>\n",
       "      <td>True</td>\n",
       "      <td>23.320000</td>\n",
       "      <td>22.730000</td>\n",
       "      <td>23.090000</td>\n",
       "      <td>23.160000</td>\n",
       "      <td>92239400.0</td>\n",
       "      <td>18.015682</td>\n",
       "    </tr>\n",
       "    <tr>\n",
       "      <th>...</th>\n",
       "      <td>...</td>\n",
       "      <td>...</td>\n",
       "      <td>...</td>\n",
       "      <td>...</td>\n",
       "      <td>...</td>\n",
       "      <td>...</td>\n",
       "      <td>...</td>\n",
       "      <td>...</td>\n",
       "    </tr>\n",
       "    <tr>\n",
       "      <th>2020-06-01</th>\n",
       "      <td>Monday</td>\n",
       "      <td>True</td>\n",
       "      <td>183.000000</td>\n",
       "      <td>181.460007</td>\n",
       "      <td>182.539993</td>\n",
       "      <td>182.830002</td>\n",
       "      <td>22622400.0</td>\n",
       "      <td>180.028427</td>\n",
       "    </tr>\n",
       "    <tr>\n",
       "      <th>2020-07-01</th>\n",
       "      <td>Wednesday</td>\n",
       "      <td>True</td>\n",
       "      <td>206.350006</td>\n",
       "      <td>201.770004</td>\n",
       "      <td>203.139999</td>\n",
       "      <td>204.699997</td>\n",
       "      <td>32061200.0</td>\n",
       "      <td>201.563293</td>\n",
       "    </tr>\n",
       "    <tr>\n",
       "      <th>2020-09-01</th>\n",
       "      <td>Tuesday</td>\n",
       "      <td>True</td>\n",
       "      <td>227.449997</td>\n",
       "      <td>224.429993</td>\n",
       "      <td>225.509995</td>\n",
       "      <td>227.270004</td>\n",
       "      <td>25725500.0</td>\n",
       "      <td>224.328430</td>\n",
       "    </tr>\n",
       "    <tr>\n",
       "      <th>2020-10-01</th>\n",
       "      <td>Thursday</td>\n",
       "      <td>True</td>\n",
       "      <td>213.990005</td>\n",
       "      <td>211.320007</td>\n",
       "      <td>213.490005</td>\n",
       "      <td>212.460007</td>\n",
       "      <td>27158400.0</td>\n",
       "      <td>209.710114</td>\n",
       "    </tr>\n",
       "    <tr>\n",
       "      <th>2020-12-01</th>\n",
       "      <td>Tuesday</td>\n",
       "      <td>True</td>\n",
       "      <td>217.320007</td>\n",
       "      <td>213.350006</td>\n",
       "      <td>214.509995</td>\n",
       "      <td>216.210007</td>\n",
       "      <td>30904500.0</td>\n",
       "      <td>213.970306</td>\n",
       "    </tr>\n",
       "  </tbody>\n",
       "</table>\n",
       "<p>85 rows × 8 columns</p>\n",
       "</div>"
      ],
      "text/plain": [
       "           Day of Week  Is Start of Month        High         Low        Open  \\\n",
       "Date                                                                            \n",
       "2010-02-01      Monday               True   28.480000   27.920000   28.389999   \n",
       "2010-03-01      Monday               True   29.049999   28.530001   28.770000   \n",
       "2010-04-01    Thursday               True   29.540001   28.620001   29.350000   \n",
       "2010-06-01     Tuesday               True   26.309999   25.520000   25.530001   \n",
       "2010-07-01    Thursday               True   23.320000   22.730000   23.090000   \n",
       "...                ...                ...         ...         ...         ...   \n",
       "2020-06-01      Monday               True  183.000000  181.460007  182.539993   \n",
       "2020-07-01   Wednesday               True  206.350006  201.770004  203.139999   \n",
       "2020-09-01     Tuesday               True  227.449997  224.429993  225.509995   \n",
       "2020-10-01    Thursday               True  213.990005  211.320007  213.490005   \n",
       "2020-12-01     Tuesday               True  217.320007  213.350006  214.509995   \n",
       "\n",
       "                 Close      Volume   Adj Close  \n",
       "Date                                            \n",
       "2010-02-01   28.410000  85931100.0   21.897875  \n",
       "2010-03-01   29.020000  43805400.0   22.472647  \n",
       "2010-04-01   29.160000  74768100.0   22.581060  \n",
       "2010-06-01   25.889999  76152400.0   20.139286  \n",
       "2010-07-01   23.160000  92239400.0   18.015682  \n",
       "...                ...         ...         ...  \n",
       "2020-06-01  182.830002  22622400.0  180.028427  \n",
       "2020-07-01  204.699997  32061200.0  201.563293  \n",
       "2020-09-01  227.270004  25725500.0  224.328430  \n",
       "2020-10-01  212.460007  27158400.0  209.710114  \n",
       "2020-12-01  216.210007  30904500.0  213.970306  \n",
       "\n",
       "[85 rows x 8 columns]"
      ]
     },
     "execution_count": 90,
     "metadata": {},
     "output_type": "execute_result"
    }
   ],
   "source": [
    "stocks[stocks['Is Start of Month']]"
   ]
  },
  {
   "cell_type": "markdown",
   "id": "0d45e183",
   "metadata": {},
   "source": [
    "### The `pd.DateOffset` object"
   ]
  },
  {
   "cell_type": "code",
   "execution_count": 91,
   "id": "2223ddc9",
   "metadata": {},
   "outputs": [
    {
     "data": {
      "text/html": [
       "<div>\n",
       "<style scoped>\n",
       "    .dataframe tbody tr th:only-of-type {\n",
       "        vertical-align: middle;\n",
       "    }\n",
       "\n",
       "    .dataframe tbody tr th {\n",
       "        vertical-align: top;\n",
       "    }\n",
       "\n",
       "    .dataframe thead th {\n",
       "        text-align: right;\n",
       "    }\n",
       "</style>\n",
       "<table border=\"1\" class=\"dataframe\">\n",
       "  <thead>\n",
       "    <tr style=\"text-align: right;\">\n",
       "      <th></th>\n",
       "      <th>High</th>\n",
       "      <th>Low</th>\n",
       "      <th>Open</th>\n",
       "      <th>Close</th>\n",
       "      <th>Volume</th>\n",
       "      <th>Adj Close</th>\n",
       "    </tr>\n",
       "    <tr>\n",
       "      <th>Date</th>\n",
       "      <th></th>\n",
       "      <th></th>\n",
       "      <th></th>\n",
       "      <th></th>\n",
       "      <th></th>\n",
       "      <th></th>\n",
       "    </tr>\n",
       "  </thead>\n",
       "  <tbody>\n",
       "    <tr>\n",
       "      <th>2010-01-04</th>\n",
       "      <td>31.1</td>\n",
       "      <td>30.590000</td>\n",
       "      <td>30.620001</td>\n",
       "      <td>30.950001</td>\n",
       "      <td>38409100.0</td>\n",
       "      <td>23.855659</td>\n",
       "    </tr>\n",
       "    <tr>\n",
       "      <th>2010-01-05</th>\n",
       "      <td>31.1</td>\n",
       "      <td>30.639999</td>\n",
       "      <td>30.850000</td>\n",
       "      <td>30.959999</td>\n",
       "      <td>49749600.0</td>\n",
       "      <td>23.863358</td>\n",
       "    </tr>\n",
       "  </tbody>\n",
       "</table>\n",
       "</div>"
      ],
      "text/plain": [
       "            High        Low       Open      Close      Volume  Adj Close\n",
       "Date                                                                    \n",
       "2010-01-04  31.1  30.590000  30.620001  30.950001  38409100.0  23.855659\n",
       "2010-01-05  31.1  30.639999  30.850000  30.959999  49749600.0  23.863358"
      ]
     },
     "execution_count": 91,
     "metadata": {},
     "output_type": "execute_result"
    }
   ],
   "source": [
    "stocks = data.DataReader(name='MSFT', \n",
    "                data_source='yahoo', \n",
    "                start='2010-01-01', \n",
    "                end='2020-12-31')\n",
    "stocks.head(2)"
   ]
  },
  {
   "cell_type": "code",
   "execution_count": 92,
   "id": "913f8adf",
   "metadata": {},
   "outputs": [
    {
     "data": {
      "text/plain": [
       "DatetimeIndex(['2010-01-09', '2010-01-10', '2010-01-11', '2010-01-12',\n",
       "               '2010-01-13', '2010-01-16', '2010-01-17', '2010-01-18',\n",
       "               '2010-01-19', '2010-01-20',\n",
       "               ...\n",
       "               '2020-12-22', '2020-12-23', '2020-12-26', '2020-12-27',\n",
       "               '2020-12-28', '2020-12-29', '2021-01-02', '2021-01-03',\n",
       "               '2021-01-04', '2021-01-05'],\n",
       "              dtype='datetime64[ns]', name='Date', length=2769, freq=None)"
      ]
     },
     "execution_count": 92,
     "metadata": {},
     "output_type": "execute_result"
    }
   ],
   "source": [
    "# Allows to subtract or add to date\n",
    "stocks.index + pd.DateOffset(days=5)"
   ]
  },
  {
   "cell_type": "markdown",
   "id": "1ba40a68",
   "metadata": {},
   "source": [
    "### Timeseries Offsets"
   ]
  },
  {
   "cell_type": "code",
   "execution_count": 93,
   "id": "5275c1b8",
   "metadata": {},
   "outputs": [
    {
     "data": {
      "text/html": [
       "<div>\n",
       "<style scoped>\n",
       "    .dataframe tbody tr th:only-of-type {\n",
       "        vertical-align: middle;\n",
       "    }\n",
       "\n",
       "    .dataframe tbody tr th {\n",
       "        vertical-align: top;\n",
       "    }\n",
       "\n",
       "    .dataframe thead th {\n",
       "        text-align: right;\n",
       "    }\n",
       "</style>\n",
       "<table border=\"1\" class=\"dataframe\">\n",
       "  <thead>\n",
       "    <tr style=\"text-align: right;\">\n",
       "      <th></th>\n",
       "      <th>High</th>\n",
       "      <th>Low</th>\n",
       "      <th>Open</th>\n",
       "      <th>Close</th>\n",
       "      <th>Volume</th>\n",
       "      <th>Adj Close</th>\n",
       "    </tr>\n",
       "    <tr>\n",
       "      <th>Date</th>\n",
       "      <th></th>\n",
       "      <th></th>\n",
       "      <th></th>\n",
       "      <th></th>\n",
       "      <th></th>\n",
       "      <th></th>\n",
       "    </tr>\n",
       "  </thead>\n",
       "  <tbody>\n",
       "    <tr>\n",
       "      <th>2010-01-04</th>\n",
       "      <td>31.1</td>\n",
       "      <td>30.590000</td>\n",
       "      <td>30.620001</td>\n",
       "      <td>30.950001</td>\n",
       "      <td>38409100.0</td>\n",
       "      <td>23.855656</td>\n",
       "    </tr>\n",
       "    <tr>\n",
       "      <th>2010-01-05</th>\n",
       "      <td>31.1</td>\n",
       "      <td>30.639999</td>\n",
       "      <td>30.850000</td>\n",
       "      <td>30.959999</td>\n",
       "      <td>49749600.0</td>\n",
       "      <td>23.863365</td>\n",
       "    </tr>\n",
       "  </tbody>\n",
       "</table>\n",
       "</div>"
      ],
      "text/plain": [
       "            High        Low       Open      Close      Volume  Adj Close\n",
       "Date                                                                    \n",
       "2010-01-04  31.1  30.590000  30.620001  30.950001  38409100.0  23.855656\n",
       "2010-01-05  31.1  30.639999  30.850000  30.959999  49749600.0  23.863365"
      ]
     },
     "execution_count": 93,
     "metadata": {},
     "output_type": "execute_result"
    }
   ],
   "source": [
    "# Adding dynamic amounts of dates, like rounding to the end of the month\n",
    "stocks = data.DataReader(name='MSFT', \n",
    "                data_source='yahoo', \n",
    "                start='2010-01-01', \n",
    "                end='2020-12-31')\n",
    "stocks.head(2)"
   ]
  },
  {
   "cell_type": "code",
   "execution_count": 94,
   "id": "63ba5f12",
   "metadata": {},
   "outputs": [
    {
     "data": {
      "text/plain": [
       "DatetimeIndex(['2010-01-31', '2010-01-31', '2010-01-31', '2010-01-31',\n",
       "               '2010-01-31', '2010-01-31', '2010-01-31', '2010-01-31',\n",
       "               '2010-01-31', '2010-01-31',\n",
       "               ...\n",
       "               '2020-12-31', '2020-12-31', '2020-12-31', '2020-12-31',\n",
       "               '2020-12-31', '2020-12-31', '2020-12-31', '2020-12-31',\n",
       "               '2020-12-31', '2021-01-31'],\n",
       "              dtype='datetime64[ns]', name='Date', length=2769, freq=None)"
      ]
     },
     "execution_count": 94,
     "metadata": {},
     "output_type": "execute_result"
    }
   ],
   "source": [
    "stocks.index + pd.tseries.offsets.MonthEnd()"
   ]
  },
  {
   "cell_type": "code",
   "execution_count": 98,
   "id": "bd0cb686",
   "metadata": {},
   "outputs": [
    {
     "data": {
      "text/plain": [
       "DatetimeIndex(['2010-01-31', '2010-01-31', '2010-01-31', '2010-01-31',\n",
       "               '2010-01-31', '2010-01-31', '2010-01-31', '2010-01-31',\n",
       "               '2010-01-31', '2010-01-31',\n",
       "               ...\n",
       "               '2020-12-31', '2020-12-31', '2020-12-31', '2020-12-31',\n",
       "               '2020-12-31', '2020-12-31', '2020-12-31', '2020-12-31',\n",
       "               '2020-12-31', '2021-01-31'],\n",
       "              dtype='datetime64[ns]', name='Date', length=2769, freq=None)"
      ]
     },
     "execution_count": 98,
     "metadata": {},
     "output_type": "execute_result"
    }
   ],
   "source": [
    "from pandas.tseries import offsets\n",
    "stocks.index + offsets.MonthEnd()"
   ]
  },
  {
   "cell_type": "markdown",
   "id": "c50f6196",
   "metadata": {},
   "source": [
    "### The `Timedelta` object"
   ]
  },
  {
   "cell_type": "code",
   "execution_count": 95,
   "id": "c15d0702",
   "metadata": {},
   "outputs": [
    {
     "data": {
      "text/html": [
       "<div>\n",
       "<style scoped>\n",
       "    .dataframe tbody tr th:only-of-type {\n",
       "        vertical-align: middle;\n",
       "    }\n",
       "\n",
       "    .dataframe tbody tr th {\n",
       "        vertical-align: top;\n",
       "    }\n",
       "\n",
       "    .dataframe thead th {\n",
       "        text-align: right;\n",
       "    }\n",
       "</style>\n",
       "<table border=\"1\" class=\"dataframe\">\n",
       "  <thead>\n",
       "    <tr style=\"text-align: right;\">\n",
       "      <th></th>\n",
       "      <th>High</th>\n",
       "      <th>Low</th>\n",
       "      <th>Open</th>\n",
       "      <th>Close</th>\n",
       "      <th>Volume</th>\n",
       "      <th>Adj Close</th>\n",
       "    </tr>\n",
       "    <tr>\n",
       "      <th>Date</th>\n",
       "      <th></th>\n",
       "      <th></th>\n",
       "      <th></th>\n",
       "      <th></th>\n",
       "      <th></th>\n",
       "      <th></th>\n",
       "    </tr>\n",
       "  </thead>\n",
       "  <tbody>\n",
       "    <tr>\n",
       "      <th>2010-01-04</th>\n",
       "      <td>31.1</td>\n",
       "      <td>30.590000</td>\n",
       "      <td>30.620001</td>\n",
       "      <td>30.950001</td>\n",
       "      <td>38409100.0</td>\n",
       "      <td>23.855659</td>\n",
       "    </tr>\n",
       "    <tr>\n",
       "      <th>2010-01-05</th>\n",
       "      <td>31.1</td>\n",
       "      <td>30.639999</td>\n",
       "      <td>30.850000</td>\n",
       "      <td>30.959999</td>\n",
       "      <td>49749600.0</td>\n",
       "      <td>23.863361</td>\n",
       "    </tr>\n",
       "  </tbody>\n",
       "</table>\n",
       "</div>"
      ],
      "text/plain": [
       "            High        Low       Open      Close      Volume  Adj Close\n",
       "Date                                                                    \n",
       "2010-01-04  31.1  30.590000  30.620001  30.950001  38409100.0  23.855659\n",
       "2010-01-05  31.1  30.639999  30.850000  30.959999  49749600.0  23.863361"
      ]
     },
     "execution_count": 95,
     "metadata": {},
     "output_type": "execute_result"
    }
   ],
   "source": [
    "stocks = data.DataReader(name='MSFT', \n",
    "                data_source='yahoo', \n",
    "                start='2010-01-01', \n",
    "                end='2020-12-31')\n",
    "stocks.head(2)"
   ]
  },
  {
   "cell_type": "code",
   "execution_count": 99,
   "id": "86e84f71",
   "metadata": {},
   "outputs": [
    {
     "data": {
      "text/plain": [
       "Timedelta('10 days 02:49:40')"
      ]
     },
     "execution_count": 99,
     "metadata": {},
     "output_type": "execute_result"
    }
   ],
   "source": [
    "# Timedelta represents a time span, difference between 2 times\n",
    "time_a = pd.Timestamp('2020-03-31 04:34:13PM')\n",
    "time_b = pd.Timestamp('2020-03-21 01:44:33PM')\n",
    "\n",
    "time_a - time_b"
   ]
  },
  {
   "cell_type": "code",
   "execution_count": 101,
   "id": "6a17bc8c",
   "metadata": {},
   "outputs": [
    {
     "data": {
      "text/plain": [
       "Timestamp('2020-04-03 16:34:13')"
      ]
     },
     "execution_count": 101,
     "metadata": {},
     "output_type": "execute_result"
    }
   ],
   "source": [
    "time_a + pd.Timedelta(days=3)"
   ]
  },
  {
   "cell_type": "code",
   "execution_count": null,
   "id": "f1b2a9cf",
   "metadata": {},
   "outputs": [],
   "source": []
  },
  {
   "cell_type": "markdown",
   "id": "90f7af7f",
   "metadata": {},
   "source": [
    "### `Timedelta` in a dataset"
   ]
  },
  {
   "cell_type": "code",
   "execution_count": 102,
   "id": "bc8662ff",
   "metadata": {},
   "outputs": [
    {
     "data": {
      "text/html": [
       "<div>\n",
       "<style scoped>\n",
       "    .dataframe tbody tr th:only-of-type {\n",
       "        vertical-align: middle;\n",
       "    }\n",
       "\n",
       "    .dataframe tbody tr th {\n",
       "        vertical-align: top;\n",
       "    }\n",
       "\n",
       "    .dataframe thead th {\n",
       "        text-align: right;\n",
       "    }\n",
       "</style>\n",
       "<table border=\"1\" class=\"dataframe\">\n",
       "  <thead>\n",
       "    <tr style=\"text-align: right;\">\n",
       "      <th></th>\n",
       "      <th>High</th>\n",
       "      <th>Low</th>\n",
       "      <th>Open</th>\n",
       "      <th>Close</th>\n",
       "      <th>Volume</th>\n",
       "      <th>Adj Close</th>\n",
       "    </tr>\n",
       "    <tr>\n",
       "      <th>Date</th>\n",
       "      <th></th>\n",
       "      <th></th>\n",
       "      <th></th>\n",
       "      <th></th>\n",
       "      <th></th>\n",
       "      <th></th>\n",
       "    </tr>\n",
       "  </thead>\n",
       "  <tbody>\n",
       "    <tr>\n",
       "      <th>2010-01-04</th>\n",
       "      <td>31.1</td>\n",
       "      <td>30.590000</td>\n",
       "      <td>30.620001</td>\n",
       "      <td>30.950001</td>\n",
       "      <td>38409100.0</td>\n",
       "      <td>23.855656</td>\n",
       "    </tr>\n",
       "    <tr>\n",
       "      <th>2010-01-05</th>\n",
       "      <td>31.1</td>\n",
       "      <td>30.639999</td>\n",
       "      <td>30.850000</td>\n",
       "      <td>30.959999</td>\n",
       "      <td>49749600.0</td>\n",
       "      <td>23.863367</td>\n",
       "    </tr>\n",
       "  </tbody>\n",
       "</table>\n",
       "</div>"
      ],
      "text/plain": [
       "            High        Low       Open      Close      Volume  Adj Close\n",
       "Date                                                                    \n",
       "2010-01-04  31.1  30.590000  30.620001  30.950001  38409100.0  23.855656\n",
       "2010-01-05  31.1  30.639999  30.850000  30.959999  49749600.0  23.863367"
      ]
     },
     "execution_count": 102,
     "metadata": {},
     "output_type": "execute_result"
    }
   ],
   "source": [
    "stocks = data.DataReader(name='MSFT', \n",
    "                data_source='yahoo', \n",
    "                start='2010-01-01', \n",
    "                end='2020-12-31')\n",
    "stocks.head(2)"
   ]
  },
  {
   "cell_type": "code",
   "execution_count": 105,
   "id": "ca3a3ceb",
   "metadata": {},
   "outputs": [
    {
     "data": {
      "text/html": [
       "<div>\n",
       "<style scoped>\n",
       "    .dataframe tbody tr th:only-of-type {\n",
       "        vertical-align: middle;\n",
       "    }\n",
       "\n",
       "    .dataframe tbody tr th {\n",
       "        vertical-align: top;\n",
       "    }\n",
       "\n",
       "    .dataframe thead th {\n",
       "        text-align: right;\n",
       "    }\n",
       "</style>\n",
       "<table border=\"1\" class=\"dataframe\">\n",
       "  <thead>\n",
       "    <tr style=\"text-align: right;\">\n",
       "      <th></th>\n",
       "      <th>order_date</th>\n",
       "      <th>delivery_date</th>\n",
       "    </tr>\n",
       "    <tr>\n",
       "      <th>ID</th>\n",
       "      <th></th>\n",
       "      <th></th>\n",
       "    </tr>\n",
       "  </thead>\n",
       "  <tbody>\n",
       "    <tr>\n",
       "      <th>1</th>\n",
       "      <td>1998-05-24</td>\n",
       "      <td>1999-02-05</td>\n",
       "    </tr>\n",
       "    <tr>\n",
       "      <th>2</th>\n",
       "      <td>1992-04-22</td>\n",
       "      <td>1998-03-06</td>\n",
       "    </tr>\n",
       "    <tr>\n",
       "      <th>4</th>\n",
       "      <td>1991-02-10</td>\n",
       "      <td>1992-08-26</td>\n",
       "    </tr>\n",
       "    <tr>\n",
       "      <th>5</th>\n",
       "      <td>1992-07-21</td>\n",
       "      <td>1997-11-20</td>\n",
       "    </tr>\n",
       "    <tr>\n",
       "      <th>7</th>\n",
       "      <td>1993-09-02</td>\n",
       "      <td>1998-06-10</td>\n",
       "    </tr>\n",
       "  </tbody>\n",
       "</table>\n",
       "</div>"
      ],
      "text/plain": [
       "   order_date delivery_date\n",
       "ID                         \n",
       "1  1998-05-24    1999-02-05\n",
       "2  1992-04-22    1998-03-06\n",
       "4  1991-02-10    1992-08-26\n",
       "5  1992-07-21    1997-11-20\n",
       "7  1993-09-02    1998-06-10"
      ]
     },
     "execution_count": 105,
     "metadata": {},
     "output_type": "execute_result"
    }
   ],
   "source": [
    "shipping = pd.read_csv('../datasets/ecommerce.csv', \n",
    "            index_col='ID', \n",
    "            parse_dates=['order_date', 'delivery_date'])\n",
    "shipping.head()"
   ]
  },
  {
   "cell_type": "code",
   "execution_count": 109,
   "id": "58ec1830",
   "metadata": {},
   "outputs": [
    {
     "data": {
      "text/html": [
       "<div>\n",
       "<style scoped>\n",
       "    .dataframe tbody tr th:only-of-type {\n",
       "        vertical-align: middle;\n",
       "    }\n",
       "\n",
       "    .dataframe tbody tr th {\n",
       "        vertical-align: top;\n",
       "    }\n",
       "\n",
       "    .dataframe thead th {\n",
       "        text-align: right;\n",
       "    }\n",
       "</style>\n",
       "<table border=\"1\" class=\"dataframe\">\n",
       "  <thead>\n",
       "    <tr style=\"text-align: right;\">\n",
       "      <th></th>\n",
       "      <th>order_date</th>\n",
       "      <th>delivery_date</th>\n",
       "      <th>Delivery Time</th>\n",
       "    </tr>\n",
       "    <tr>\n",
       "      <th>ID</th>\n",
       "      <th></th>\n",
       "      <th></th>\n",
       "      <th></th>\n",
       "    </tr>\n",
       "  </thead>\n",
       "  <tbody>\n",
       "    <tr>\n",
       "      <th>1</th>\n",
       "      <td>1998-05-24</td>\n",
       "      <td>1999-02-05</td>\n",
       "      <td>257 days</td>\n",
       "    </tr>\n",
       "    <tr>\n",
       "      <th>2</th>\n",
       "      <td>1992-04-22</td>\n",
       "      <td>1998-03-06</td>\n",
       "      <td>2144 days</td>\n",
       "    </tr>\n",
       "    <tr>\n",
       "      <th>4</th>\n",
       "      <td>1991-02-10</td>\n",
       "      <td>1992-08-26</td>\n",
       "      <td>563 days</td>\n",
       "    </tr>\n",
       "    <tr>\n",
       "      <th>5</th>\n",
       "      <td>1992-07-21</td>\n",
       "      <td>1997-11-20</td>\n",
       "      <td>1948 days</td>\n",
       "    </tr>\n",
       "    <tr>\n",
       "      <th>7</th>\n",
       "      <td>1993-09-02</td>\n",
       "      <td>1998-06-10</td>\n",
       "      <td>1742 days</td>\n",
       "    </tr>\n",
       "    <tr>\n",
       "      <th>...</th>\n",
       "      <td>...</td>\n",
       "      <td>...</td>\n",
       "      <td>...</td>\n",
       "    </tr>\n",
       "    <tr>\n",
       "      <th>990</th>\n",
       "      <td>1991-06-24</td>\n",
       "      <td>1996-02-02</td>\n",
       "      <td>1684 days</td>\n",
       "    </tr>\n",
       "    <tr>\n",
       "      <th>991</th>\n",
       "      <td>1991-09-09</td>\n",
       "      <td>1998-03-30</td>\n",
       "      <td>2394 days</td>\n",
       "    </tr>\n",
       "    <tr>\n",
       "      <th>993</th>\n",
       "      <td>1990-11-16</td>\n",
       "      <td>1998-04-27</td>\n",
       "      <td>2719 days</td>\n",
       "    </tr>\n",
       "    <tr>\n",
       "      <th>994</th>\n",
       "      <td>1993-06-03</td>\n",
       "      <td>1993-06-13</td>\n",
       "      <td>10 days</td>\n",
       "    </tr>\n",
       "    <tr>\n",
       "      <th>997</th>\n",
       "      <td>1990-01-04</td>\n",
       "      <td>1991-10-03</td>\n",
       "      <td>637 days</td>\n",
       "    </tr>\n",
       "  </tbody>\n",
       "</table>\n",
       "<p>501 rows × 3 columns</p>\n",
       "</div>"
      ],
      "text/plain": [
       "    order_date delivery_date Delivery Time\n",
       "ID                                        \n",
       "1   1998-05-24    1999-02-05      257 days\n",
       "2   1992-04-22    1998-03-06     2144 days\n",
       "4   1991-02-10    1992-08-26      563 days\n",
       "5   1992-07-21    1997-11-20     1948 days\n",
       "7   1993-09-02    1998-06-10     1742 days\n",
       "..         ...           ...           ...\n",
       "990 1991-06-24    1996-02-02     1684 days\n",
       "991 1991-09-09    1998-03-30     2394 days\n",
       "993 1990-11-16    1998-04-27     2719 days\n",
       "994 1993-06-03    1993-06-13       10 days\n",
       "997 1990-01-04    1991-10-03      637 days\n",
       "\n",
       "[501 rows x 3 columns]"
      ]
     },
     "execution_count": 109,
     "metadata": {},
     "output_type": "execute_result"
    }
   ],
   "source": [
    "# Find how long it took to deliver\n",
    "shipping['Delivery Time'] = shipping['delivery_date'] - shipping['order_date']\n",
    "shipping"
   ]
  },
  {
   "cell_type": "code",
   "execution_count": 114,
   "id": "7837f3b6",
   "metadata": {},
   "outputs": [
    {
     "data": {
      "text/html": [
       "<div>\n",
       "<style scoped>\n",
       "    .dataframe tbody tr th:only-of-type {\n",
       "        vertical-align: middle;\n",
       "    }\n",
       "\n",
       "    .dataframe tbody tr th {\n",
       "        vertical-align: top;\n",
       "    }\n",
       "\n",
       "    .dataframe thead th {\n",
       "        text-align: right;\n",
       "    }\n",
       "</style>\n",
       "<table border=\"1\" class=\"dataframe\">\n",
       "  <thead>\n",
       "    <tr style=\"text-align: right;\">\n",
       "      <th></th>\n",
       "      <th>order_date</th>\n",
       "      <th>delivery_date</th>\n",
       "      <th>Delivery Time</th>\n",
       "    </tr>\n",
       "    <tr>\n",
       "      <th>ID</th>\n",
       "      <th></th>\n",
       "      <th></th>\n",
       "      <th></th>\n",
       "    </tr>\n",
       "  </thead>\n",
       "  <tbody>\n",
       "    <tr>\n",
       "      <th>2</th>\n",
       "      <td>1992-04-22</td>\n",
       "      <td>1998-03-06</td>\n",
       "      <td>2144 days</td>\n",
       "    </tr>\n",
       "    <tr>\n",
       "      <th>4</th>\n",
       "      <td>1991-02-10</td>\n",
       "      <td>1992-08-26</td>\n",
       "      <td>563 days</td>\n",
       "    </tr>\n",
       "    <tr>\n",
       "      <th>5</th>\n",
       "      <td>1992-07-21</td>\n",
       "      <td>1997-11-20</td>\n",
       "      <td>1948 days</td>\n",
       "    </tr>\n",
       "    <tr>\n",
       "      <th>7</th>\n",
       "      <td>1993-09-02</td>\n",
       "      <td>1998-06-10</td>\n",
       "      <td>1742 days</td>\n",
       "    </tr>\n",
       "    <tr>\n",
       "      <th>9</th>\n",
       "      <td>1990-01-25</td>\n",
       "      <td>1994-10-02</td>\n",
       "      <td>1711 days</td>\n",
       "    </tr>\n",
       "    <tr>\n",
       "      <th>...</th>\n",
       "      <td>...</td>\n",
       "      <td>...</td>\n",
       "      <td>...</td>\n",
       "    </tr>\n",
       "    <tr>\n",
       "      <th>986</th>\n",
       "      <td>1990-12-10</td>\n",
       "      <td>1992-12-16</td>\n",
       "      <td>737 days</td>\n",
       "    </tr>\n",
       "    <tr>\n",
       "      <th>990</th>\n",
       "      <td>1991-06-24</td>\n",
       "      <td>1996-02-02</td>\n",
       "      <td>1684 days</td>\n",
       "    </tr>\n",
       "    <tr>\n",
       "      <th>991</th>\n",
       "      <td>1991-09-09</td>\n",
       "      <td>1998-03-30</td>\n",
       "      <td>2394 days</td>\n",
       "    </tr>\n",
       "    <tr>\n",
       "      <th>993</th>\n",
       "      <td>1990-11-16</td>\n",
       "      <td>1998-04-27</td>\n",
       "      <td>2719 days</td>\n",
       "    </tr>\n",
       "    <tr>\n",
       "      <th>997</th>\n",
       "      <td>1990-01-04</td>\n",
       "      <td>1991-10-03</td>\n",
       "      <td>637 days</td>\n",
       "    </tr>\n",
       "  </tbody>\n",
       "</table>\n",
       "<p>394 rows × 3 columns</p>\n",
       "</div>"
      ],
      "text/plain": [
       "    order_date delivery_date Delivery Time\n",
       "ID                                        \n",
       "2   1992-04-22    1998-03-06     2144 days\n",
       "4   1991-02-10    1992-08-26      563 days\n",
       "5   1992-07-21    1997-11-20     1948 days\n",
       "7   1993-09-02    1998-06-10     1742 days\n",
       "9   1990-01-25    1994-10-02     1711 days\n",
       "..         ...           ...           ...\n",
       "986 1990-12-10    1992-12-16      737 days\n",
       "990 1991-06-24    1996-02-02     1684 days\n",
       "991 1991-09-09    1998-03-30     2394 days\n",
       "993 1990-11-16    1998-04-27     2719 days\n",
       "997 1990-01-04    1991-10-03      637 days\n",
       "\n",
       "[394 rows x 3 columns]"
      ]
     },
     "execution_count": 114,
     "metadata": {},
     "output_type": "execute_result"
    }
   ],
   "source": [
    "# Get orders that took more than year to deliver\n",
    "mask = shipping['Delivery Time'] > '365 days'\n",
    "shipping[mask]"
   ]
  },
  {
   "cell_type": "code",
   "execution_count": null,
   "id": "91365f13",
   "metadata": {},
   "outputs": [],
   "source": []
  },
  {
   "cell_type": "code",
   "execution_count": null,
   "id": "01eeb6e5",
   "metadata": {},
   "outputs": [],
   "source": []
  },
  {
   "cell_type": "code",
   "execution_count": null,
   "id": "baf28223",
   "metadata": {},
   "outputs": [],
   "source": []
  },
  {
   "cell_type": "code",
   "execution_count": null,
   "id": "8cf7f2b6",
   "metadata": {},
   "outputs": [],
   "source": []
  },
  {
   "cell_type": "code",
   "execution_count": null,
   "id": "bb164cd2",
   "metadata": {},
   "outputs": [],
   "source": []
  },
  {
   "cell_type": "code",
   "execution_count": null,
   "id": "8bf9f58c",
   "metadata": {},
   "outputs": [],
   "source": []
  },
  {
   "cell_type": "code",
   "execution_count": null,
   "id": "ef2db6b8",
   "metadata": {},
   "outputs": [],
   "source": []
  },
  {
   "cell_type": "code",
   "execution_count": null,
   "id": "9f6d46d6",
   "metadata": {},
   "outputs": [],
   "source": []
  },
  {
   "cell_type": "code",
   "execution_count": null,
   "id": "5fe7234b",
   "metadata": {},
   "outputs": [],
   "source": []
  },
  {
   "cell_type": "code",
   "execution_count": null,
   "id": "08b9993e",
   "metadata": {},
   "outputs": [],
   "source": []
  },
  {
   "cell_type": "code",
   "execution_count": null,
   "id": "ab7b58fd",
   "metadata": {},
   "outputs": [],
   "source": []
  }
 ],
 "metadata": {
  "kernelspec": {
   "display_name": "Python 3 (ipykernel)",
   "language": "python",
   "name": "python3"
  },
  "language_info": {
   "codemirror_mode": {
    "name": "ipython",
    "version": 3
   },
   "file_extension": ".py",
   "mimetype": "text/x-python",
   "name": "python",
   "nbconvert_exporter": "python",
   "pygments_lexer": "ipython3",
   "version": "3.10.0"
  }
 },
 "nbformat": 4,
 "nbformat_minor": 5
}
